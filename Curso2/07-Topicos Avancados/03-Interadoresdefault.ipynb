{
 "cells": [
  {
   "cell_type": "code",
   "execution_count": 10,
   "metadata": {},
   "outputs": [],
   "source": [
    "import itertools"
   ]
  },
  {
   "cell_type": "code",
   "execution_count": null,
   "metadata": {},
   "outputs": [],
   "source": [
    "for i in range(5):\n",
    "    print(i)"
   ]
  },
  {
   "cell_type": "code",
   "execution_count": 3,
   "metadata": {},
   "outputs": [
    {
     "name": "stdout",
     "output_type": "stream",
     "text": [
      "Maça\n",
      "Banana\n",
      "Laranja\n",
      "Morango\n"
     ]
    }
   ],
   "source": [
    "frutas = ['Maça','Banana','Laranja','Morango']\n",
    "for fruta in frutas:\n",
    "    print(fruta)"
   ]
  },
  {
   "cell_type": "code",
   "execution_count": 5,
   "metadata": {},
   "outputs": [
    {
     "name": "stdout",
     "output_type": "stream",
     "text": [
      "nome Alice\n",
      "idade 30\n"
     ]
    }
   ],
   "source": [
    "pessoa={'nome':'Alice','idade':30}\n",
    "for chave in pessoa:\n",
    "    print(chave,pessoa[chave])"
   ]
  },
  {
   "cell_type": "code",
   "execution_count": 7,
   "metadata": {},
   "outputs": [
    {
     "name": "stdout",
     "output_type": "stream",
     "text": [
      "1 Maça\n",
      "2 Banana\n",
      "3 Laranja\n",
      "4 Morango\n"
     ]
    }
   ],
   "source": [
    "for indice, fruta in enumerate(frutas):\n",
    "    print(indice+1, fruta)"
   ]
  },
  {
   "cell_type": "code",
   "execution_count": 8,
   "metadata": {},
   "outputs": [
    {
     "name": "stdout",
     "output_type": "stream",
     "text": [
      "O nome da pessoa é Alice e ela tem 30 anos\n",
      "O nome da pessoa é Bob e ela tem 25 anos\n",
      "O nome da pessoa é Carlos e ela tem 35 anos\n"
     ]
    }
   ],
   "source": [
    "nomes=['Alice','Bob','Carlos']\n",
    "idades=[30,25,35]\n",
    "for nome, idade in zip(nomes, idades):\n",
    "    print(f'O nome da pessoa é {nome} e ela tem {idade} anos')"
   ]
  },
  {
   "cell_type": "code",
   "execution_count": 12,
   "metadata": {},
   "outputs": [
    {
     "name": "stdout",
     "output_type": "stream",
     "text": [
      "10\n",
      "12\n",
      "14\n",
      "16\n",
      "18\n",
      "20\n"
     ]
    }
   ],
   "source": [
    "\n",
    "for i in itertools.count(start=10, step=2):\n",
    "    if i > 20:\n",
    "        break\n",
    "    print(i)"
   ]
  }
 ],
 "metadata": {
  "kernelspec": {
   "display_name": "Python 3",
   "language": "python",
   "name": "python3"
  },
  "language_info": {
   "codemirror_mode": {
    "name": "ipython",
    "version": 3
   },
   "file_extension": ".py",
   "mimetype": "text/x-python",
   "name": "python",
   "nbconvert_exporter": "python",
   "pygments_lexer": "ipython3",
   "version": "3.12.6"
  }
 },
 "nbformat": 4,
 "nbformat_minor": 2
}
