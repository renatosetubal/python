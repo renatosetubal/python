{
 "cells": [
  {
   "cell_type": "code",
   "execution_count": 3,
   "metadata": {},
   "outputs": [],
   "source": [
    "produtos = [\n",
    "    {\"nome\": \"Produto A\", \"preco\": 10.00, \"em_estoque\":True},\n",
    "    {\"nome\": \"Produto B\", \"preco\": 14.00, \"em_estoque\":False},\n",
    "    {\"nome\": \"Produto C\", \"preco\": 9.00, \"em_estoque\":True},\n",
    "    {\"nome\": \"Produto D\", \"preco\": 5.00, \"em_estoque\":False}\n",
    "]"
   ]
  },
  {
   "cell_type": "code",
   "execution_count": 4,
   "metadata": {},
   "outputs": [],
   "source": [
    "def produto_em_estoque(produto):\n",
    "    return produto['em_estoque']"
   ]
  },
  {
   "cell_type": "code",
   "execution_count": 5,
   "metadata": {},
   "outputs": [
    {
     "data": {
      "text/plain": [
       "[{'nome': 'Produto A', 'preco': 10.0, 'em_estoque': True},\n",
       " {'nome': 'Produto C', 'preco': 9.0, 'em_estoque': True}]"
      ]
     },
     "execution_count": 5,
     "metadata": {},
     "output_type": "execute_result"
    }
   ],
   "source": [
    "produtos_disponiveis = filter(produto_em_estoque, produtos)\n",
    "list(produtos_disponiveis)"
   ]
  },
  {
   "cell_type": "markdown",
   "metadata": {},
   "source": [
    "#Análise de dados com filter"
   ]
  },
  {
   "cell_type": "code",
   "execution_count": 6,
   "metadata": {},
   "outputs": [],
   "source": [
    "transacoes = [200.0,-50.0,-30.0, 75.0,100.0,34.0,-80.0]"
   ]
  },
  {
   "cell_type": "code",
   "execution_count": 7,
   "metadata": {},
   "outputs": [],
   "source": [
    "def e_despesa(transacao):\n",
    "    return transacao < 0"
   ]
  },
  {
   "cell_type": "code",
   "execution_count": 8,
   "metadata": {},
   "outputs": [
    {
     "data": {
      "text/plain": [
       "[-50.0, -30.0, -80.0]"
      ]
     },
     "execution_count": 8,
     "metadata": {},
     "output_type": "execute_result"
    }
   ],
   "source": [
    "despesas = filter(e_despesa,transacoes)\n",
    "list(despesas)"
   ]
  }
 ],
 "metadata": {
  "kernelspec": {
   "display_name": "Python 3",
   "language": "python",
   "name": "python3"
  },
  "language_info": {
   "codemirror_mode": {
    "name": "ipython",
    "version": 3
   },
   "file_extension": ".py",
   "mimetype": "text/x-python",
   "name": "python",
   "nbconvert_exporter": "python",
   "pygments_lexer": "ipython3",
   "version": "3.12.6"
  }
 },
 "nbformat": 4,
 "nbformat_minor": 2
}
