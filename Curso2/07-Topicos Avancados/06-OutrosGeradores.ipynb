{
 "cells": [
  {
   "cell_type": "code",
   "execution_count": null,
   "metadata": {},
   "outputs": [],
   "source": [
    "# 1- Gerador de Expressão\n",
    "quadrados = (x ** 2 for x in range(10))\n",
    "for quadrado in quadrados:\n",
    "    print(quadrado)"
   ]
  },
  {
   "cell_type": "code",
   "execution_count": null,
   "metadata": {},
   "outputs": [],
   "source": [
    "# 2 - Interador Infinito\n",
    "def contador_infinito():\n",
    "    i = 0 \n",
    "    while True: \n",
    "        yield i\n",
    "        i += 1\n",
    "contador = contador_infinito()\n",
    "for _ in range(10):\n",
    "   print(next(contador))\n",
    "    \n",
    "\n",
    "    "
   ]
  },
  {
   "cell_type": "code",
   "execution_count": null,
   "metadata": {},
   "outputs": [],
   "source": [
    "# 3 - Coleta de Valores com send()\n",
    "def gerador_soma():\n",
    "    total = 0\n",
    "    while True:\n",
    "        valor = yield total\n",
    "        if valor is not None:\n",
    "            total += valor\n",
    "\n",
    "soma = gerador_soma()\n",
    "next(soma) #Inicializando soma\n",
    "print(soma.send(10))\n",
    "print(soma.send(15))\n",
    "print(soma.send(20))\n"
   ]
  },
  {
   "cell_type": "code",
   "execution_count": null,
   "metadata": {},
   "outputs": [],
   "source": [
    "# 4 - Tratamento de exceções\n",
    "def gerador_excecao():\n",
    "    try:\n",
    "       while True:\n",
    "           valor=yield\n",
    "           print(f'Valor recebido: {valor}') \n",
    "    except ValueError:\n",
    "        print(\"Valor inválido!\")\n",
    "    except StopIteration:\n",
    "        print(\"Iteração parada!\")\n",
    "\n",
    "g = gerador_excecao()\n",
    "next(g)\n",
    "g.send(10)\n",
    "g.throw(ValueError)\n",
    "g.close()  # Close the generator to handle StopIteration"
   ]
  },
  {
   "cell_type": "code",
   "execution_count": 8,
   "metadata": {},
   "outputs": [
    {
     "name": "stdout",
     "output_type": "stream",
     "text": [
      "<generator object adicionar_cinco at 0x000001A7BF19D2F0>\n",
      "<generator object adicionar_cinco at 0x000001A7BF19D2F0>\n",
      "<generator object adicionar_cinco at 0x000001A7BF19D2F0>\n",
      "<generator object adicionar_cinco at 0x000001A7BF19D2F0>\n",
      "<generator object adicionar_cinco at 0x000001A7BF19D2F0>\n"
     ]
    }
   ],
   "source": [
    "# 5 - Cascata de Geradores\n",
    "def multiplicar_dois(iterable):\n",
    "    for i in iterable:\n",
    "        yield i * 2\n",
    "\n",
    "def adicionar_cinco(iterable):\n",
    "    for i in iterable:\n",
    "        yield i +5 \n",
    "\n",
    "numeros = range(5)\n",
    "r = adicionar_cinco(multiplicar_dois(numeros))\n",
    "for i in r:\n",
    "    print(r)"
   ]
  }
 ],
 "metadata": {
  "kernelspec": {
   "display_name": "Python 3",
   "language": "python",
   "name": "python3"
  },
  "language_info": {
   "codemirror_mode": {
    "name": "ipython",
    "version": 3
   },
   "file_extension": ".py",
   "mimetype": "text/x-python",
   "name": "python",
   "nbconvert_exporter": "python",
   "pygments_lexer": "ipython3",
   "version": "3.12.6"
  }
 },
 "nbformat": 4,
 "nbformat_minor": 2
}
