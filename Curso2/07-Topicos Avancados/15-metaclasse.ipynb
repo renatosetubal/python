{
 "cells": [
  {
   "cell_type": "markdown",
   "metadata": {},
   "source": [
    "Metaclasse\n",
    "- Cria classe de forma dinâmica\n",
    "- Pode ser útil na criação de frameworks onde as classes precisam ter um comportamento específico"
   ]
  },
  {
   "cell_type": "code",
   "execution_count": 7,
   "metadata": {},
   "outputs": [],
   "source": [
    "class MeuMeta(type):\n",
    "    def __new__(cls, nome, bases, dct):\n",
    "        dct['novo_atributo']='valor adicionado pela metaclasse'\n",
    "        return super().__new__(cls,nome,bases,dct)"
   ]
  },
  {
   "cell_type": "code",
   "execution_count": 10,
   "metadata": {},
   "outputs": [],
   "source": [
    "class MinhaClasse(metaclass=MeuMeta):\n",
    "    pass"
   ]
  },
  {
   "cell_type": "code",
   "execution_count": 16,
   "metadata": {},
   "outputs": [
    {
     "data": {
      "text/plain": [
       "'valor adicionado pela metaclasse'"
      ]
     },
     "execution_count": 16,
     "metadata": {},
     "output_type": "execute_result"
    }
   ],
   "source": [
    "obj=MinhaClasse()\n",
    "obj.novo_atributo\n"
   ]
  },
  {
   "cell_type": "code",
   "execution_count": null,
   "metadata": {},
   "outputs": [],
   "source": [
    "class ValidadorMeta(type):\n",
    "    def __new__(cls, nome, bases, dct):\n",
    "        validacoes = dct.get('validacoes', {})\n",
    "        \n",
    "        for attr, tipo in validacoes.items():\n",
    "            if not callable(tipo):\n",
    "                raise TypeError(f'O tipo de validação para {attr} deve ser uma função')\n",
    "            def valida_func(self,value, attr=attr, tipo=tipo):\n",
    "                if not isinstance(value, tipo):\n",
    "                    raise ValueError(f'Valor inválido para {attr}. Deve ser do tipo {tipo.__name__}')\n",
    "                \n",
    "                self.__dict__[attr] = value\n",
    "                \n",
    "            valida_func.__name__=f'set_{attr}'\n",
    "            dct[f\"set_{attr}\"] = valida_func\n",
    "                \n",
    "        return super().__new__(cls,nome,bases,dct)\n",
    "\n",
    "    @staticmethod\n",
    "    def valida(funcao):\n",
    "        def wrapper(*args, **kwargs):\n",
    "            print('Validando...')\n",
    "            return funcao(*args, **kwargs)\n",
    "        return wrapper"
   ]
  },
  {
   "cell_type": "code",
   "execution_count": 13,
   "metadata": {},
   "outputs": [],
   "source": [
    "class Usuario(metaclass=ValidadorMeta):\n",
    "    validacoes = {\n",
    "        'nome': str,\n",
    "        'idade': int,\n",
    "    }\n",
    "    \n",
    "    @ValidadorMeta.valida\n",
    "    def __init__(self, nome, idade):\n",
    "        self.set_nome(nome)\n",
    "        self.set_idade(idade)"
   ]
  },
  {
   "cell_type": "code",
   "execution_count": 18,
   "metadata": {},
   "outputs": [
    {
     "name": "stdout",
     "output_type": "stream",
     "text": [
      "Validando...\n"
     ]
    },
    {
     "ename": "AttributeError",
     "evalue": "'Usuario' object has no attribute 'nome'",
     "output_type": "error",
     "traceback": [
      "\u001b[1;31m---------------------------------------------------------------------------\u001b[0m",
      "\u001b[1;31mAttributeError\u001b[0m                            Traceback (most recent call last)",
      "Cell \u001b[1;32mIn[18], line 3\u001b[0m\n\u001b[0;32m      1\u001b[0m \u001b[38;5;28;01mtry\u001b[39;00m:\n\u001b[0;32m      2\u001b[0m     user\u001b[38;5;241m=\u001b[39mUsuario(\u001b[38;5;124m'\u001b[39m\u001b[38;5;124mJoão\u001b[39m\u001b[38;5;124m'\u001b[39m, \u001b[38;5;241m25\u001b[39m)\n\u001b[1;32m----> 3\u001b[0m     \u001b[38;5;28mprint\u001b[39m(\u001b[38;5;124mf\u001b[39m\u001b[38;5;124m\"\u001b[39m\u001b[38;5;124mNome: \u001b[39m\u001b[38;5;132;01m{\u001b[39;00m\u001b[43muser\u001b[49m\u001b[38;5;241;43m.\u001b[39;49m\u001b[43mnome\u001b[49m\u001b[38;5;132;01m}\u001b[39;00m\u001b[38;5;124m, Idade: \u001b[39m\u001b[38;5;132;01m{\u001b[39;00muser\u001b[38;5;241m.\u001b[39midade\u001b[38;5;132;01m}\u001b[39;00m\u001b[38;5;124m\"\u001b[39m)\n\u001b[0;32m      4\u001b[0m     user\u001b[38;5;241m.\u001b[39mset_idade(\u001b[38;5;124m\"\u001b[39m\u001b[38;5;124mtrinta\u001b[39m\u001b[38;5;124m\"\u001b[39m)\n\u001b[0;32m      5\u001b[0m \u001b[38;5;28;01mexcept\u001b[39;00m \u001b[38;5;167;01mValueError\u001b[39;00m \u001b[38;5;28;01mas\u001b[39;00m e:\n",
      "\u001b[1;31mAttributeError\u001b[0m: 'Usuario' object has no attribute 'nome'"
     ]
    }
   ],
   "source": [
    "try:\n",
    "    user=Usuario('João', 25)\n",
    "    print(f\"Nome: {user.nome}, Idade: {user.idade}\")\n",
    "    user.set_idade(\"trinta\")\n",
    "except ValueError as e:\n",
    "    print(e)\n",
    "    pass"
   ]
  }
 ],
 "metadata": {
  "kernelspec": {
   "display_name": "Python 3",
   "language": "python",
   "name": "python3"
  },
  "language_info": {
   "codemirror_mode": {
    "name": "ipython",
    "version": 3
   },
   "file_extension": ".py",
   "mimetype": "text/x-python",
   "name": "python",
   "nbconvert_exporter": "python",
   "pygments_lexer": "ipython3",
   "version": "3.12.6"
  }
 },
 "nbformat": 4,
 "nbformat_minor": 2
}
